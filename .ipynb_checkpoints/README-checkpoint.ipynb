{
 "cells": [
  {
   "cell_type": "markdown",
   "metadata": {},
   "source": [
    "# Movie Market Analysis\n",
    "An exploration of trends in the film industry\n",
    "\n",
    "**Author**: Carlos Garza"
   ]
  },
  {
   "cell_type": "markdown",
   "metadata": {},
   "source": [
    "## Overview\n",
    "\n",
    "This notebook contains an analysis of the current trends in the film industry to provide insight and recommendations in relation to the new Microsoft movie studio. Using data from IMDb, Box Office Mojo, and the-numbers.com, actionable recommendations were reached in relation to effective movie budgets, successful movie genres, and the optimal runtime to promote high ratings.\n",
    "\n",
    "The data, methodology, and derived conclusions are detailed in the body of this document."
   ]
  },
  {
   "cell_type": "markdown",
   "metadata": {},
   "source": [
    "## Business Problem\n",
    "\n",
    "With Microsoft looking to break into the film industry, it is imperative that their investment is well informed. With that in mind, I explored data to provide informed strategy recommendations in regards to ideal investment size, successful movie genres, and effective movie run times to maximize ratings and interest. These strategies have been observed to be effective and profitable business solutions."
   ]
  },
  {
   "cell_type": "markdown",
   "metadata": {},
   "source": [
    "## Data\n",
    "\n",
    "The data used in this project comes from IMDb, Box Office Mojo, and the-numbers.com. the data is summarized below.\n",
    "\n",
    "![datatable](./images/tables.png)\n",
    "\n",
    "\n",
    "Each table of raw data is represented in the table by the table's name and respective column names. Some highlighting has been done to aid in visualizing what data these tables might have in common.\n",
    "\n",
    "The columns I made use of are displayed in the slimmed down table below.\n",
    "\n",
    "![datatable](./images/slimtable.png)\n",
    "\n",
    "***"
   ]
  },
  {
   "cell_type": "markdown",
   "metadata": {},
   "source": [
    "## Methods\n",
    "This is a short summary of my method of operation. My thought process is detailed in [my Jupyter Notebook](./master_analysis.ipynb)\n",
    "### 1. Budget Exploration\n",
    "\n",
    "I explored the ideal budget range using the Box Office Mojo movie gross table and the table of movie budgets from the-numbers.com\n",
    "\n",
    "joining at bommoviegross.title == budgets.movie, I was able to create new columns for profit and percent profit and plot percent profit against production budget for the three studios that create the most content/have the most experience. This allowed me to draw conclusions on an ideal budget range.\n",
    "\n",
    "### 2. Genre Exploration\n",
    "\n",
    "Using data from IMDb's title basics and title ratings tables, I explored what genres perform best in the ratings. To do this, I combined the tables at their tconst columns, split the list of genres associated with each movie, and observed what the average rating was among the movies associated with each genre. The data was summarized into a bar graph for ease of data visualization.\n",
    "\n",
    "### 3. Ideal Documentary Length\n",
    "\n",
    "With Documentaries emerging as the top performing genre, I analyzed ratings against film run time to find what documentary lengths tend to perform best. The results were summarized and displayed in a line plot that clearly shows ranges that documentaries should be formatted for. \n",
    "***"
   ]
  },
  {
   "cell_type": "markdown",
   "metadata": {},
   "source": [
    "## Results\n",
    "\n",
    "This is a short summary of my results. My analysis is detailed in my Jupyter Notebook\n",
    "\n",
    "### 1. Budget Exploration\n",
    "\n",
    "When %profit is graphed against production budget for the three established studios with the largest quantity of work, a diminishing rate of return becomes evident. Statistically, a film is most likely to break even with a budget of around $120k. Any larger and it becomes more difficult to make a profit.\n",
    "\n",
    "![profit_percentage](./images/profit_percentage.png)"
   ]
  },
  {
   "cell_type": "markdown",
   "metadata": {},
   "source": [
    "### 2. Genre Exploration\n",
    "With ratings of movies associated with each individual genre are averaged and compared, documentaries are shown to consistently achieve the highest ratings. Documentaries are closely followed by game shows, news films, and biographies.\n",
    "![genreratings](./images/highest_rated_genres.png)\n",
    "\n",
    "It is important to note, however, that game shows currently only have two data points, so the data may not be representative of the population. Out of an abundance of caution, I would advise not further testing with more data if game shows are to be produced."
   ]
  },
  {
   "cell_type": "markdown",
   "metadata": {},
   "source": [
    "### 3. Ideal Documentary Length\n",
    "With documentaries emerging as the top rated film genre, I explored the run time of well rated documentaries to provide insite on successful format length. Average ratings were plotted against runtime to produce a line graph. This visualization reveals that effective documentary runtimes are roughly 55 minutes or between 70 and 90 minutes. This leads me to believe that somewhat short documentaries meant for television slots or streaming are very highly rated, as well as more detailed documentaries that are no longer than 90 minutes.\n",
    "\n",
    "![rating_v_runtime](./images/rating_v_time.png)"
   ]
  },
  {
   "cell_type": "markdown",
   "metadata": {},
   "source": [
    "***\n",
    "***\n",
    "***\n",
    "## Conclusions\n",
    "\n",
    "My analysis concluded that an effective direction for the newly established Microsoft Studio would be to produce hour to hour and a half long documentaries with budgets that do not exceed $120M.\n",
    "\n",
    "Documentaries are an extremely popular film genre that consistently earns good reviews. With Microsoft's branding aimed for the, \"tech savvy, working, and educated,\" it is safe to assume that a large part of Microsoft's existing users and audience also enjoys documentaries.\n",
    "\n",
    "If documentaries and other educational genres like news and biography films make up the beginning of the Microsoft Studios catalog, the studio may have the flexibility to enter other genre markets with experience and an existing reputation of success."
   ]
  },
  {
   "cell_type": "markdown",
   "metadata": {},
   "source": [
    "***\n",
    "## Future Work\n",
    "\n",
    "Continuing this work, there are a handful of details that could prove useful in refining results.\n",
    "\n",
    "One factor that I ommitted in my analysis was review counts. When aggragating the average reviews to find the highest rated genres, It could prove insightful to weigh average reviews differently depending on review count. Lower review counts increase the risk of a sample not properly representing a full population.\n",
    "\n",
    "Another future analysis might include budget v. profit analysis for individual genres rather than all movies as a whole. Different genres may behave differently from one another.\n",
    "\n",
    "Although there are other factors that can narrow in on more precise answers, I am confident in my analysis and in its characterization of the film industry."
   ]
  },
  {
   "cell_type": "markdown",
   "metadata": {},
   "source": [
    "## For More Information\n",
    "\n",
    "Please review our full analysis in [our Jupyter Notebook](./master_analysis.ipynb) or our [presentation](./project_presentation.pdf).\n",
    "\n",
    "For any additional questions, please contact me by email: **carlosjgarza89@gmail.com**"
   ]
  },
  {
   "cell_type": "markdown",
   "metadata": {},
   "source": [
    "## Repository Structure\n",
    "\n",
    "Describe the structure of your repository and its contents, for example:\n",
    "\n",
    "```\n",
    "├── README.md                           <- The top-level README for reviewers of this project\n",
    "├── master_analysis.ipynb               <- Narrative documentation of analysis in Jupyter notebook\n",
    "├── master_analysis.pdf                 <- PDF version of master notebook\n",
    "├── project_presentation.pdf            <- PDF version of project presentation\n",
    "├── data                                <- Both sourced externally and generated from code\n",
    "├── images                              <- Both sourced externally and generated from code\n",
    "└── scratch_notebooks                   <- Notebooks used for scratchwork and unorganized processing\n",
    "```"
   ]
  }
 ],
 "metadata": {
  "kernelspec": {
   "display_name": "Python 3",
   "language": "python",
   "name": "python3"
  },
  "language_info": {
   "codemirror_mode": {
    "name": "ipython",
    "version": 3
   },
   "file_extension": ".py",
   "mimetype": "text/x-python",
   "name": "python",
   "nbconvert_exporter": "python",
   "pygments_lexer": "ipython3",
   "version": "3.8.5"
  }
 },
 "nbformat": 4,
 "nbformat_minor": 4
}
